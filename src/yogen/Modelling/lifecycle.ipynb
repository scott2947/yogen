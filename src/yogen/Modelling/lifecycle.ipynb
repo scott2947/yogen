{
 "cells": [
  {
   "cell_type": "code",
   "execution_count": 1,
   "id": "86715741",
   "metadata": {},
   "outputs": [],
   "source": [
    "import pandas as pd\n",
    "import numpy as np"
   ]
  },
  {
   "cell_type": "code",
   "execution_count": 2,
   "id": "2c7ca96a",
   "metadata": {},
   "outputs": [],
   "source": [
    "WINDOW = 10"
   ]
  },
  {
   "cell_type": "markdown",
   "id": "7809cafe",
   "metadata": {},
   "source": [
    "### Problem definition\n",
    "Given the opening and closing prices from the last 10 trading days, and the opening price from the current day, predict whether the closing price will be higher or lower than the opening price"
   ]
  },
  {
   "cell_type": "markdown",
   "id": "a53c5819",
   "metadata": {},
   "source": [
    "### Data collection\n",
    "Tesla stock price dataset obtained from Kaggle"
   ]
  },
  {
   "cell_type": "code",
   "execution_count": 4,
   "id": "1b25682c",
   "metadata": {},
   "outputs": [
    {
     "data": {
      "text/html": [
       "<div>\n",
       "<style scoped>\n",
       "    .dataframe tbody tr th:only-of-type {\n",
       "        vertical-align: middle;\n",
       "    }\n",
       "\n",
       "    .dataframe tbody tr th {\n",
       "        vertical-align: top;\n",
       "    }\n",
       "\n",
       "    .dataframe thead th {\n",
       "        text-align: right;\n",
       "    }\n",
       "</style>\n",
       "<table border=\"1\" class=\"dataframe\">\n",
       "  <thead>\n",
       "    <tr style=\"text-align: right;\">\n",
       "      <th></th>\n",
       "      <th>High</th>\n",
       "      <th>Low</th>\n",
       "      <th>Open</th>\n",
       "      <th>Close</th>\n",
       "      <th>Volume</th>\n",
       "      <th>Adj Close</th>\n",
       "    </tr>\n",
       "    <tr>\n",
       "      <th>Date</th>\n",
       "      <th></th>\n",
       "      <th></th>\n",
       "      <th></th>\n",
       "      <th></th>\n",
       "      <th></th>\n",
       "      <th></th>\n",
       "    </tr>\n",
       "  </thead>\n",
       "  <tbody>\n",
       "    <tr>\n",
       "      <th>2019-09-30</th>\n",
       "      <td>48.796001</td>\n",
       "      <td>47.222000</td>\n",
       "      <td>48.599998</td>\n",
       "      <td>48.174000</td>\n",
       "      <td>29399000.0</td>\n",
       "      <td>48.174000</td>\n",
       "    </tr>\n",
       "    <tr>\n",
       "      <th>2019-10-01</th>\n",
       "      <td>49.189999</td>\n",
       "      <td>47.826000</td>\n",
       "      <td>48.299999</td>\n",
       "      <td>48.938000</td>\n",
       "      <td>30813000.0</td>\n",
       "      <td>48.938000</td>\n",
       "    </tr>\n",
       "    <tr>\n",
       "      <th>2019-10-02</th>\n",
       "      <td>48.930000</td>\n",
       "      <td>47.886002</td>\n",
       "      <td>48.658001</td>\n",
       "      <td>48.625999</td>\n",
       "      <td>28157000.0</td>\n",
       "      <td>48.625999</td>\n",
       "    </tr>\n",
       "    <tr>\n",
       "      <th>2019-10-03</th>\n",
       "      <td>46.896000</td>\n",
       "      <td>44.855999</td>\n",
       "      <td>46.372002</td>\n",
       "      <td>46.605999</td>\n",
       "      <td>75422500.0</td>\n",
       "      <td>46.605999</td>\n",
       "    </tr>\n",
       "    <tr>\n",
       "      <th>2019-10-04</th>\n",
       "      <td>46.956001</td>\n",
       "      <td>45.613998</td>\n",
       "      <td>46.321999</td>\n",
       "      <td>46.285999</td>\n",
       "      <td>39975000.0</td>\n",
       "      <td>46.285999</td>\n",
       "    </tr>\n",
       "    <tr>\n",
       "      <th>...</th>\n",
       "      <td>...</td>\n",
       "      <td>...</td>\n",
       "      <td>...</td>\n",
       "      <td>...</td>\n",
       "      <td>...</td>\n",
       "      <td>...</td>\n",
       "    </tr>\n",
       "    <tr>\n",
       "      <th>2022-04-05</th>\n",
       "      <td>1152.869995</td>\n",
       "      <td>1087.300049</td>\n",
       "      <td>1136.300049</td>\n",
       "      <td>1091.260010</td>\n",
       "      <td>26691700.0</td>\n",
       "      <td>1091.260010</td>\n",
       "    </tr>\n",
       "    <tr>\n",
       "      <th>2022-04-06</th>\n",
       "      <td>1079.000000</td>\n",
       "      <td>1027.699951</td>\n",
       "      <td>1073.469971</td>\n",
       "      <td>1045.760010</td>\n",
       "      <td>29782800.0</td>\n",
       "      <td>1045.760010</td>\n",
       "    </tr>\n",
       "    <tr>\n",
       "      <th>2022-04-07</th>\n",
       "      <td>1076.589966</td>\n",
       "      <td>1021.539978</td>\n",
       "      <td>1052.390015</td>\n",
       "      <td>1057.260010</td>\n",
       "      <td>26482400.0</td>\n",
       "      <td>1057.260010</td>\n",
       "    </tr>\n",
       "    <tr>\n",
       "      <th>2022-04-08</th>\n",
       "      <td>1048.439941</td>\n",
       "      <td>1022.440002</td>\n",
       "      <td>1043.209961</td>\n",
       "      <td>1025.489990</td>\n",
       "      <td>18293300.0</td>\n",
       "      <td>1025.489990</td>\n",
       "    </tr>\n",
       "    <tr>\n",
       "      <th>2022-04-11</th>\n",
       "      <td>1008.469971</td>\n",
       "      <td>974.640015</td>\n",
       "      <td>980.400024</td>\n",
       "      <td>975.929993</td>\n",
       "      <td>19660500.0</td>\n",
       "      <td>975.929993</td>\n",
       "    </tr>\n",
       "  </tbody>\n",
       "</table>\n",
       "<p>639 rows × 6 columns</p>\n",
       "</div>"
      ],
      "text/plain": [
       "                   High          Low         Open        Close      Volume  \\\n",
       "Date                                                                         \n",
       "2019-09-30    48.796001    47.222000    48.599998    48.174000  29399000.0   \n",
       "2019-10-01    49.189999    47.826000    48.299999    48.938000  30813000.0   \n",
       "2019-10-02    48.930000    47.886002    48.658001    48.625999  28157000.0   \n",
       "2019-10-03    46.896000    44.855999    46.372002    46.605999  75422500.0   \n",
       "2019-10-04    46.956001    45.613998    46.321999    46.285999  39975000.0   \n",
       "...                 ...          ...          ...          ...         ...   \n",
       "2022-04-05  1152.869995  1087.300049  1136.300049  1091.260010  26691700.0   \n",
       "2022-04-06  1079.000000  1027.699951  1073.469971  1045.760010  29782800.0   \n",
       "2022-04-07  1076.589966  1021.539978  1052.390015  1057.260010  26482400.0   \n",
       "2022-04-08  1048.439941  1022.440002  1043.209961  1025.489990  18293300.0   \n",
       "2022-04-11  1008.469971   974.640015   980.400024   975.929993  19660500.0   \n",
       "\n",
       "              Adj Close  \n",
       "Date                     \n",
       "2019-09-30    48.174000  \n",
       "2019-10-01    48.938000  \n",
       "2019-10-02    48.625999  \n",
       "2019-10-03    46.605999  \n",
       "2019-10-04    46.285999  \n",
       "...                 ...  \n",
       "2022-04-05  1091.260010  \n",
       "2022-04-06  1045.760010  \n",
       "2022-04-07  1057.260010  \n",
       "2022-04-08  1025.489990  \n",
       "2022-04-11   975.929993  \n",
       "\n",
       "[639 rows x 6 columns]"
      ]
     },
     "execution_count": 4,
     "metadata": {},
     "output_type": "execute_result"
    }
   ],
   "source": [
    "df_all_data = pd.read_csv(\"./Resources/TSLA.csv\")\n",
    "df_all_data[\"Date\"] = pd.to_datetime(df_all_data[\"Date\"])\n",
    "df_all_data.set_index(\"Date\", inplace=True)\n",
    "df_all_data"
   ]
  },
  {
   "cell_type": "markdown",
   "id": "1ff1816b",
   "metadata": {},
   "source": [
    "### Data cleaning and preprocessing\n",
    "- Constrain to opening and closing prices only\n",
    "- Use sliding window to obtain 21 features\n",
    "- Scale data to standard normal distribution"
   ]
  },
  {
   "cell_type": "code",
   "execution_count": 5,
   "id": "40499c28",
   "metadata": {},
   "outputs": [],
   "source": [
    "from sklearn.preprocessing import StandardScaler"
   ]
  },
  {
   "cell_type": "code",
   "execution_count": 6,
   "id": "5c02254a",
   "metadata": {},
   "outputs": [],
   "source": [
    "df_constrained = df_all_data.loc[:, [\"Open\", \"Close\"]]\n",
    "split_point = int(len(df_constrained) * 0.85)\n",
    "df_training = df_constrained.iloc[:split_point, :]\n",
    "df_test = df_constrained.iloc[split_point:, :]"
   ]
  },
  {
   "cell_type": "code",
   "execution_count": 7,
   "id": "5c07b2d8",
   "metadata": {},
   "outputs": [],
   "source": [
    "def sliding_window(df):\n",
    "    data = []\n",
    "    for i in range(WINDOW, len(df)):\n",
    "        opening = df.iloc[i-WINDOW:i, 0].to_list()\n",
    "        closing = df.iloc[i-WINDOW:i, 1].to_list()\n",
    "        datapoint = [price for pair in zip(opening, closing) for price in pair]\n",
    "        current_open = df.iloc[i, 0]\n",
    "        datapoint.append(current_open)\n",
    "        current_close = df.iloc[i, 1]\n",
    "        if current_open >= current_close:\n",
    "            datapoint.append(1.)\n",
    "        else:\n",
    "            datapoint.append(0.)\n",
    "        data.append(datapoint)\n",
    "    return np.array(data)"
   ]
  },
  {
   "cell_type": "code",
   "execution_count": 8,
   "id": "7bc121a0",
   "metadata": {},
   "outputs": [],
   "source": [
    "np_training = sliding_window(df_training)\n",
    "np_test = sliding_window(df_test)"
   ]
  },
  {
   "cell_type": "code",
   "execution_count": 9,
   "id": "af485c58",
   "metadata": {},
   "outputs": [],
   "source": [
    "X_train = np_training[:, :-1]\n",
    "y_train = np_training[:, -1]\n",
    "X_test = np_test[:, :-1]\n",
    "y_test = np_test[:, -1]"
   ]
  },
  {
   "cell_type": "code",
   "execution_count": 10,
   "id": "fd0d99d5",
   "metadata": {},
   "outputs": [],
   "source": [
    "scaler = StandardScaler()\n",
    "X_train = scaler.fit_transform(X_train, y_train)\n",
    "X_test = scaler.transform(X_test)"
   ]
  },
  {
   "cell_type": "markdown",
   "id": "df5a462b",
   "metadata": {},
   "source": [
    "### EDA"
   ]
  },
  {
   "cell_type": "code",
   "execution_count": 11,
   "id": "eeb9f35c",
   "metadata": {},
   "outputs": [],
   "source": [
    "from collections import Counter\n",
    "import matplotlib.pyplot as plt"
   ]
  },
  {
   "cell_type": "code",
   "execution_count": 12,
   "id": "145871cf",
   "metadata": {},
   "outputs": [
    {
     "data": {
      "image/png": "[encoded data removed]",
      "text/plain": [
       "<Figure size 640x480 with 1 Axes>"
      ]
     },
     "metadata": {},
     "output_type": "display_data"
    }
   ],
   "source": [
    "counts = Counter(y_train)\n",
    "counts = {str(key): value for key, value in counts.items()}\n",
    "fig, ax = plt.subplots()\n",
    "ax.bar(counts.keys(), counts.values())\n",
    "ax.set_xlabel(\"Label\")\n",
    "ax.set_ylabel(\"Count\")\n",
    "plt.show()"
   ]
  },
  {
   "cell_type": "code",
   "execution_count": 13,
   "id": "7fef6147",
   "metadata": {},
   "outputs": [
    {
     "data": {
      "image/png": "[encoded data removed]",
      "text/plain": [
       "<Figure size 640x480 with 1 Axes>"
      ]
     },
     "metadata": {},
     "output_type": "display_data"
    }
   ],
   "source": [
    "fig, ax = plt.subplots()\n",
    "ax.plot(np.r_[:len(X_train)], X_train[:, 0])\n",
    "ax.set_xlabel(\"Time\")\n",
    "ax.set_ylabel(\"Scaled price\")\n",
    "plt.show()"
   ]
  },
  {
   "cell_type": "markdown",
   "id": "6b0b893c",
   "metadata": {},
   "source": [
    "### Feature engineering\n",
    "None for v0.1.0"
   ]
  },
  {
   "cell_type": "markdown",
   "id": "be21aa44",
   "metadata": {},
   "source": [
    "### Model selection\n",
    "Using PyTorch via Keras for v0.1.0"
   ]
  },
  {
   "cell_type": "markdown",
   "id": "8f5cf95b",
   "metadata": {},
   "source": [
    "### Model training"
   ]
  },
  {
   "cell_type": "code",
   "execution_count": 14,
   "id": "cc97aabf",
   "metadata": {},
   "outputs": [],
   "source": [
    "import os\n",
    "os.environ[\"KERAS_BACKEND\"] = \"torch\"\n",
    "import torch\n",
    "import keras\n",
    "from keras import layers\n",
    "from keras import callbacks\n",
    "\n",
    "from sklearn.metrics import classification_report\n",
    "\n",
    "device = torch.device(\"mps\" if torch.backends.mps.is_available() else \"cpu\")"
   ]
  },
  {
   "cell_type": "code",
   "execution_count": 15,
   "id": "2b221923",
   "metadata": {},
   "outputs": [],
   "source": [
    "def get_model(input_dim, input_drop, hidden_drop, noise):\n",
    "    model = keras.Sequential([\n",
    "        layers.Input(shape=(input_dim,)),\n",
    "        layers.GaussianNoise(noise),\n",
    "        layers.Dropout(input_drop),\n",
    "        layers.Dense(16),\n",
    "        layers.BatchNormalization(),\n",
    "        layers.LeakyReLU(),\n",
    "        layers.Dropout(hidden_drop),\n",
    "        layers.Dense(8),\n",
    "        layers.BatchNormalization(),\n",
    "        layers.LeakyReLU(),\n",
    "        layers.Dropout(hidden_drop),\n",
    "        layers.Dense(4),\n",
    "        layers.BatchNormalization(),\n",
    "        layers.LeakyReLU(),\n",
    "        layers.Dropout(hidden_drop),\n",
    "        layers.Dense(1, activation=\"sigmoid\")\n",
    "    ])\n",
    "    model.to(device)\n",
    "    return model"
   ]
  },
  {
   "cell_type": "code",
   "execution_count": 16,
   "id": "84754418",
   "metadata": {},
   "outputs": [],
   "source": [
    "def get_early_stop():\n",
    "    early_stop = callbacks.EarlyStopping(\n",
    "        monitor=\"val_loss\",\n",
    "        patience=50,\n",
    "        restore_best_weights=True\n",
    "    )\n",
    "    return early_stop"
   ]
  },
  {
   "cell_type": "code",
   "execution_count": 22,
   "id": "bc99e27e",
   "metadata": {},
   "outputs": [
    {
     "name": "stdout",
     "output_type": "stream",
     "text": [
      "Epoch 1/1000\n",
      "\u001b[1m15/15\u001b[0m \u001b[32m━━━━━━━━━━━━━━━━━━━━\u001b[0m\u001b[37m\u001b[0m \u001b[1m0s\u001b[0m 30ms/step - accuracy: 0.4768 - loss: 0.7953 - val_accuracy: 0.4375 - val_loss: 0.7000\n",
      "Epoch 2/1000\n",
      "\u001b[1m15/15\u001b[0m \u001b[32m━━━━━━━━━━━━━━━━━━━━\u001b[0m\u001b[37m\u001b[0m \u001b[1m0s\u001b[0m 31ms/step - accuracy: 0.5386 - loss: 0.7754 - val_accuracy: 0.4750 - val_loss: 0.6987\n",
      "Epoch 3/1000\n",
      "\u001b[1m15/15\u001b[0m \u001b[32m━━━━━━━━━━━━━━━━━━━━\u001b[0m\u001b[37m\u001b[0m \u001b[1m0s\u001b[0m 31ms/step - accuracy: 0.4967 - loss: 0.7865 - val_accuracy: 0.4625 - val_loss: 0.6991\n",
      "Epoch 4/1000\n",
      "\u001b[1m15/15\u001b[0m \u001b[32m━━━━━━━━━━━━━━━━━━━━\u001b[0m\u001b[37m\u001b[0m \u001b[1m0s\u001b[0m 29ms/step - accuracy: 0.5166 - loss: 0.7545 - val_accuracy: 0.4375 - val_loss: 0.7003\n",
      "Epoch 5/1000\n",
      "\u001b[1m15/15\u001b[0m \u001b[32m━━━━━━━━━━━━━━━━━━━━\u001b[0m\u001b[37m\u001b[0m \u001b[1m0s\u001b[0m 30ms/step - accuracy: 0.4879 - loss: 0.8113 - val_accuracy: 0.4625 - val_loss: 0.7000\n",
      "Epoch 6/1000\n",
      "\u001b[1m15/15\u001b[0m \u001b[32m━━━━━━━━━━━━━━━━━━━━\u001b[0m\u001b[37m\u001b[0m \u001b[1m0s\u001b[0m 29ms/step - accuracy: 0.4702 - loss: 0.8158 - val_accuracy: 0.4500 - val_loss: 0.7004\n",
      "Epoch 7/1000\n",
      "\u001b[1m15/15\u001b[0m \u001b[32m━━━━━━━━━━━━━━━━━━━━\u001b[0m\u001b[37m\u001b[0m \u001b[1m0s\u001b[0m 29ms/step - accuracy: 0.4746 - loss: 0.7687 - val_accuracy: 0.4375 - val_loss: 0.7027\n",
      "Epoch 8/1000\n",
      "\u001b[1m15/15\u001b[0m \u001b[32m━━━━━━━━━━━━━━━━━━━━\u001b[0m\u001b[37m\u001b[0m \u001b[1m0s\u001b[0m 29ms/step - accuracy: 0.4857 - loss: 0.7744 - val_accuracy: 0.4500 - val_loss: 0.7003\n",
      "Epoch 9/1000\n",
      "\u001b[1m15/15\u001b[0m \u001b[32m━━━━━━━━━━━━━━━━━━━━\u001b[0m\u001b[37m\u001b[0m \u001b[1m0s\u001b[0m 29ms/step - accuracy: 0.4790 - loss: 0.7865 - val_accuracy: 0.4375 - val_loss: 0.6998\n",
      "Epoch 10/1000\n",
      "\u001b[1m15/15\u001b[0m \u001b[32m━━━━━━━━━━━━━━━━━━━━\u001b[0m\u001b[37m\u001b[0m \u001b[1m0s\u001b[0m 29ms/step - accuracy: 0.4857 - loss: 0.7943 - val_accuracy: 0.4375 - val_loss: 0.7004\n",
      "Epoch 11/1000\n",
      "\u001b[1m15/15\u001b[0m \u001b[32m━━━━━━━━━━━━━━━━━━━━\u001b[0m\u001b[37m\u001b[0m \u001b[1m0s\u001b[0m 29ms/step - accuracy: 0.4967 - loss: 0.7566 - val_accuracy: 0.4250 - val_loss: 0.7022\n",
      "Epoch 12/1000\n",
      "\u001b[1m15/15\u001b[0m \u001b[32m━━━━━━━━━━━━━━━━━━━━\u001b[0m\u001b[37m\u001b[0m \u001b[1m0s\u001b[0m 29ms/step - accuracy: 0.4945 - loss: 0.7711 - val_accuracy: 0.4500 - val_loss: 0.7017\n",
      "Epoch 13/1000\n",
      "\u001b[1m15/15\u001b[0m \u001b[32m━━━━━━━━━━━━━━━━━━━━\u001b[0m\u001b[37m\u001b[0m \u001b[1m0s\u001b[0m 30ms/step - accuracy: 0.5166 - loss: 0.7357 - val_accuracy: 0.4250 - val_loss: 0.7033\n",
      "Epoch 14/1000\n",
      "\u001b[1m15/15\u001b[0m \u001b[32m━━━━━━━━━━━━━━━━━━━━\u001b[0m\u001b[37m\u001b[0m \u001b[1m0s\u001b[0m 30ms/step - accuracy: 0.4989 - loss: 0.7481 - val_accuracy: 0.4625 - val_loss: 0.7048\n",
      "Epoch 15/1000\n",
      "\u001b[1m15/15\u001b[0m \u001b[32m━━━━━━━━━━━━━━━━━━━━\u001b[0m\u001b[37m\u001b[0m \u001b[1m0s\u001b[0m 30ms/step - accuracy: 0.5033 - loss: 0.7624 - val_accuracy: 0.4375 - val_loss: 0.7063\n",
      "Epoch 16/1000\n",
      "\u001b[1m15/15\u001b[0m \u001b[32m━━━━━━━━━━━━━━━━━━━━\u001b[0m\u001b[37m\u001b[0m \u001b[1m0s\u001b[0m 31ms/step - accuracy: 0.5607 - loss: 0.7726 - val_accuracy: 0.4500 - val_loss: 0.7059\n",
      "Epoch 17/1000\n",
      "\u001b[1m15/15\u001b[0m \u001b[32m━━━━━━━━━━━━━━━━━━━━\u001b[0m\u001b[37m\u001b[0m \u001b[1m0s\u001b[0m 29ms/step - accuracy: 0.5254 - loss: 0.7506 - val_accuracy: 0.4500 - val_loss: 0.7052\n",
      "Epoch 18/1000\n",
      "\u001b[1m15/15\u001b[0m \u001b[32m━━━━━━━━━━━━━━━━━━━━\u001b[0m\u001b[37m\u001b[0m \u001b[1m0s\u001b[0m 29ms/step - accuracy: 0.5033 - loss: 0.7824 - val_accuracy: 0.4500 - val_loss: 0.7033\n",
      "Epoch 19/1000\n",
      "\u001b[1m15/15\u001b[0m \u001b[32m━━━━━━━━━━━━━━━━━━━━\u001b[0m\u001b[37m\u001b[0m \u001b[1m0s\u001b[0m 29ms/step - accuracy: 0.5121 - loss: 0.7813 - val_accuracy: 0.4375 - val_loss: 0.7022\n",
      "Epoch 20/1000\n",
      "\u001b[1m15/15\u001b[0m \u001b[32m━━━━━━━━━━━━━━━━━━━━\u001b[0m\u001b[37m\u001b[0m \u001b[1m0s\u001b[0m 28ms/step - accuracy: 0.5166 - loss: 0.7609 - val_accuracy: 0.4500 - val_loss: 0.7016\n",
      "Epoch 21/1000\n",
      "\u001b[1m15/15\u001b[0m \u001b[32m━━━━━━━━━━━━━━━━━━━━\u001b[0m\u001b[37m\u001b[0m \u001b[1m0s\u001b[0m 29ms/step - accuracy: 0.5033 - loss: 0.7582 - val_accuracy: 0.4250 - val_loss: 0.7026\n",
      "Epoch 22/1000\n",
      "\u001b[1m15/15\u001b[0m \u001b[32m━━━━━━━━━━━━━━━━━━━━\u001b[0m\u001b[37m\u001b[0m \u001b[1m0s\u001b[0m 33ms/step - accuracy: 0.4989 - loss: 0.7830 - val_accuracy: 0.4500 - val_loss: 0.7038\n",
      "Epoch 23/1000\n",
      "\u001b[1m15/15\u001b[0m \u001b[32m━━━━━━━━━━━━━━━━━━━━\u001b[0m\u001b[37m\u001b[0m \u001b[1m0s\u001b[0m 31ms/step - accuracy: 0.4967 - loss: 0.7623 - val_accuracy: 0.4250 - val_loss: 0.7027\n",
      "Epoch 24/1000\n",
      "\u001b[1m15/15\u001b[0m \u001b[32m━━━━━━━━━━━━━━━━━━━━\u001b[0m\u001b[37m\u001b[0m \u001b[1m0s\u001b[0m 29ms/step - accuracy: 0.4834 - loss: 0.7773 - val_accuracy: 0.4375 - val_loss: 0.7034\n",
      "Epoch 25/1000\n",
      "\u001b[1m15/15\u001b[0m \u001b[32m━━━━━━━━━━━━━━━━━━━━\u001b[0m\u001b[37m\u001b[0m \u001b[1m0s\u001b[0m 29ms/step - accuracy: 0.4481 - loss: 0.7934 - val_accuracy: 0.4500 - val_loss: 0.7050\n",
      "Epoch 26/1000\n",
      "\u001b[1m15/15\u001b[0m \u001b[32m━━━━━━━━━━━━━━━━━━━━\u001b[0m\u001b[37m\u001b[0m \u001b[1m0s\u001b[0m 31ms/step - accuracy: 0.5188 - loss: 0.7505 - val_accuracy: 0.4125 - val_loss: 0.7068\n",
      "Epoch 27/1000\n",
      "\u001b[1m15/15\u001b[0m \u001b[32m━━━━━━━━━━━━━━━━━━━━\u001b[0m\u001b[37m\u001b[0m \u001b[1m0s\u001b[0m 29ms/step - accuracy: 0.4901 - loss: 0.7657 - val_accuracy: 0.4125 - val_loss: 0.7060\n",
      "Epoch 28/1000\n",
      "\u001b[1m15/15\u001b[0m \u001b[32m━━━━━━━━━━━━━━━━━━━━\u001b[0m\u001b[37m\u001b[0m \u001b[1m0s\u001b[0m 29ms/step - accuracy: 0.5077 - loss: 0.7424 - val_accuracy: 0.4250 - val_loss: 0.7076\n",
      "Epoch 29/1000\n",
      "\u001b[1m15/15\u001b[0m \u001b[32m━━━━━━━━━━━━━━━━━━━━\u001b[0m\u001b[37m\u001b[0m \u001b[1m0s\u001b[0m 30ms/step - accuracy: 0.5099 - loss: 0.7505 - val_accuracy: 0.4625 - val_loss: 0.7096\n",
      "Epoch 30/1000\n",
      "\u001b[1m15/15\u001b[0m \u001b[32m━━━━━━━━━━━━━━━━━━━━\u001b[0m\u001b[37m\u001b[0m \u001b[1m0s\u001b[0m 29ms/step - accuracy: 0.5276 - loss: 0.7168 - val_accuracy: 0.4625 - val_loss: 0.7096\n",
      "Epoch 31/1000\n",
      "\u001b[1m15/15\u001b[0m \u001b[32m━━━━━━━━━━━━━━━━━━━━\u001b[0m\u001b[37m\u001b[0m \u001b[1m0s\u001b[0m 29ms/step - accuracy: 0.5077 - loss: 0.7475 - val_accuracy: 0.4500 - val_loss: 0.7091\n",
      "Epoch 32/1000\n",
      "\u001b[1m15/15\u001b[0m \u001b[32m━━━━━━━━━━━━━━━━━━━━\u001b[0m\u001b[37m\u001b[0m \u001b[1m0s\u001b[0m 29ms/step - accuracy: 0.5276 - loss: 0.7381 - val_accuracy: 0.4500 - val_loss: 0.7096\n",
      "Epoch 33/1000\n",
      "\u001b[1m15/15\u001b[0m \u001b[32m━━━━━━━━━━━━━━━━━━━━\u001b[0m\u001b[37m\u001b[0m \u001b[1m0s\u001b[0m 30ms/step - accuracy: 0.5386 - loss: 0.7327 - val_accuracy: 0.4500 - val_loss: 0.7081\n",
      "Epoch 34/1000\n",
      "\u001b[1m15/15\u001b[0m \u001b[32m━━━━━━━━━━━━━━━━━━━━\u001b[0m\u001b[37m\u001b[0m \u001b[1m0s\u001b[0m 29ms/step - accuracy: 0.4702 - loss: 0.7822 - val_accuracy: 0.4500 - val_loss: 0.7078\n",
      "Epoch 35/1000\n",
      "\u001b[1m15/15\u001b[0m \u001b[32m━━━━━━━━━━━━━━━━━━━━\u001b[0m\u001b[37m\u001b[0m \u001b[1m0s\u001b[0m 29ms/step - accuracy: 0.5497 - loss: 0.7203 - val_accuracy: 0.4500 - val_loss: 0.7088\n",
      "Epoch 36/1000\n",
      "\u001b[1m15/15\u001b[0m \u001b[32m━━━━━━━━━━━━━━━━━━━━\u001b[0m\u001b[37m\u001b[0m \u001b[1m0s\u001b[0m 30ms/step - accuracy: 0.5033 - loss: 0.7252 - val_accuracy: 0.4250 - val_loss: 0.7110\n",
      "Epoch 37/1000\n",
      "\u001b[1m15/15\u001b[0m \u001b[32m━━━━━━━━━━━━━━━━━━━━\u001b[0m\u001b[37m\u001b[0m \u001b[1m0s\u001b[0m 29ms/step - accuracy: 0.5077 - loss: 0.7524 - val_accuracy: 0.4500 - val_loss: 0.7101\n",
      "Epoch 38/1000\n",
      "\u001b[1m15/15\u001b[0m \u001b[32m━━━━━━━━━━━━━━━━━━━━\u001b[0m\u001b[37m\u001b[0m \u001b[1m0s\u001b[0m 29ms/step - accuracy: 0.5033 - loss: 0.7474 - val_accuracy: 0.4250 - val_loss: 0.7106\n",
      "Epoch 39/1000\n",
      "\u001b[1m15/15\u001b[0m \u001b[32m━━━━━━━━━━━━━━━━━━━━\u001b[0m\u001b[37m\u001b[0m \u001b[1m0s\u001b[0m 29ms/step - accuracy: 0.5386 - loss: 0.7298 - val_accuracy: 0.4500 - val_loss: 0.7098\n",
      "Epoch 40/1000\n",
      "\u001b[1m15/15\u001b[0m \u001b[32m━━━━━━━━━━━━━━━━━━━━\u001b[0m\u001b[37m\u001b[0m \u001b[1m0s\u001b[0m 30ms/step - accuracy: 0.5099 - loss: 0.7359 - val_accuracy: 0.4250 - val_loss: 0.7110\n",
      "Epoch 41/1000\n",
      "\u001b[1m15/15\u001b[0m \u001b[32m━━━━━━━━━━━━━━━━━━━━\u001b[0m\u001b[37m\u001b[0m \u001b[1m0s\u001b[0m 29ms/step - accuracy: 0.4879 - loss: 0.7419 - val_accuracy: 0.4250 - val_loss: 0.7112\n",
      "Epoch 42/1000\n",
      "\u001b[1m15/15\u001b[0m \u001b[32m━━━━━━━━━━━━━━━━━━━━\u001b[0m\u001b[37m\u001b[0m \u001b[1m0s\u001b[0m 29ms/step - accuracy: 0.4812 - loss: 0.7495 - val_accuracy: 0.4625 - val_loss: 0.7078\n",
      "Epoch 43/1000\n",
      "\u001b[1m15/15\u001b[0m \u001b[32m━━━━━━━━━━━━━━━━━━━━\u001b[0m\u001b[37m\u001b[0m \u001b[1m0s\u001b[0m 29ms/step - accuracy: 0.5298 - loss: 0.7089 - val_accuracy: 0.4625 - val_loss: 0.7072\n",
      "Epoch 44/1000\n",
      "\u001b[1m15/15\u001b[0m \u001b[32m━━━━━━━━━━━━━━━━━━━━\u001b[0m\u001b[37m\u001b[0m \u001b[1m0s\u001b[0m 29ms/step - accuracy: 0.4989 - loss: 0.7777 - val_accuracy: 0.4500 - val_loss: 0.7065\n",
      "Epoch 45/1000\n",
      "\u001b[1m15/15\u001b[0m \u001b[32m━━━━━━━━━━━━━━━━━━━━\u001b[0m\u001b[37m\u001b[0m \u001b[1m0s\u001b[0m 30ms/step - accuracy: 0.4879 - loss: 0.7814 - val_accuracy: 0.4375 - val_loss: 0.7070\n",
      "Epoch 46/1000\n",
      "\u001b[1m15/15\u001b[0m \u001b[32m━━━━━━━━━━━━━━━━━━━━\u001b[0m\u001b[37m\u001b[0m \u001b[1m0s\u001b[0m 29ms/step - accuracy: 0.5386 - loss: 0.7222 - val_accuracy: 0.4375 - val_loss: 0.7068\n",
      "Epoch 47/1000\n",
      "\u001b[1m15/15\u001b[0m \u001b[32m━━━━━━━━━━━━━━━━━━━━\u001b[0m\u001b[37m\u001b[0m \u001b[1m0s\u001b[0m 29ms/step - accuracy: 0.5011 - loss: 0.7350 - val_accuracy: 0.4500 - val_loss: 0.7081\n",
      "Epoch 48/1000\n",
      "\u001b[1m15/15\u001b[0m \u001b[32m━━━━━━━━━━━━━━━━━━━━\u001b[0m\u001b[37m\u001b[0m \u001b[1m0s\u001b[0m 28ms/step - accuracy: 0.5430 - loss: 0.7382 - val_accuracy: 0.4500 - val_loss: 0.7084\n",
      "Epoch 49/1000\n",
      "\u001b[1m15/15\u001b[0m \u001b[32m━━━━━━━━━━━━━━━━━━━━\u001b[0m\u001b[37m\u001b[0m \u001b[1m0s\u001b[0m 29ms/step - accuracy: 0.5298 - loss: 0.7364 - val_accuracy: 0.4125 - val_loss: 0.7099\n",
      "Epoch 50/1000\n",
      "\u001b[1m15/15\u001b[0m \u001b[32m━━━━━━━━━━━━━━━━━━━━\u001b[0m\u001b[37m\u001b[0m \u001b[1m0s\u001b[0m 29ms/step - accuracy: 0.5430 - loss: 0.7285 - val_accuracy: 0.4250 - val_loss: 0.7095\n",
      "Epoch 51/1000\n",
      "\u001b[1m15/15\u001b[0m \u001b[32m━━━━━━━━━━━━━━━━━━━━\u001b[0m\u001b[37m\u001b[0m \u001b[1m0s\u001b[0m 29ms/step - accuracy: 0.5386 - loss: 0.7245 - val_accuracy: 0.4375 - val_loss: 0.7078\n",
      "Epoch 52/1000\n",
      "\u001b[1m15/15\u001b[0m \u001b[32m━━━━━━━━━━━━━━━━━━━━\u001b[0m\u001b[37m\u001b[0m \u001b[1m0s\u001b[0m 29ms/step - accuracy: 0.5077 - loss: 0.7606 - val_accuracy: 0.4375 - val_loss: 0.7085\n"
     ]
    }
   ],
   "source": [
    "split_point = int(len(X_train) * 0.85)\n",
    "X_epoch = X_train[:split_point, :]\n",
    "y_epoch = y_train[:split_point]\n",
    "X_validate = X_train[split_point:, :]\n",
    "y_validate = y_train[split_point:]\n",
    "\n",
    "input_drop = 0.02\n",
    "hidden_drop = 0.3\n",
    "noise = 0.001\n",
    "learning_rate = 1e-4\n",
    "weight_reg = 1e-4\n",
    "\n",
    "optimizer = keras.optimizers.AdamW(learning_rate=learning_rate, weight_decay=weight_reg)\n",
    "\n",
    "model = get_model(21, input_drop, hidden_drop, noise)\n",
    "model.compile(loss=\"binary_crossentropy\", optimizer=optimizer, metrics=[\"accuracy\"])\n",
    "history = model.fit(X_epoch, y_epoch, epochs=1000, batch_size=32, validation_data=(X_validate, y_validate), validation_batch_size=32, callbacks=[get_early_stop()])\n",
    "\n",
    "epoch_losses = history.history[\"loss\"]\n",
    "validation_losses = history.history[\"val_loss\"]\n",
    "\n",
    "model.save(\"./Resources/model.keras\")"
   ]
  },
  {
   "cell_type": "code",
   "execution_count": 23,
   "id": "9ceb2056",
   "metadata": {},
   "outputs": [
    {
     "data": {
      "image/png": "[encoded data removed]",
      "text/plain": [
       "<Figure size 640x480 with 1 Axes>"
      ]
     },
     "metadata": {},
     "output_type": "display_data"
    }
   ],
   "source": [
    "fig, ax = plt.subplots()\n",
    "df_losses = pd.DataFrame(zip(epoch_losses, validation_losses), columns=[\"TrainLoss\", \"ValLoss\"])\n",
    "df_losses[\"MA TrainLoss\"] = df_losses[\"TrainLoss\"].rolling(window=10).mean()\n",
    "df_losses[\"MA ValLoss\"] = df_losses[\"ValLoss\"].rolling(window=10).mean()\n",
    "df_losses.plot.line(ax=ax)\n",
    "ax.set_xlabel(\"Epoch - 1\")\n",
    "ax.set_ylabel(\"BCELoss\")\n",
    "ax.legend()\n",
    "plt.show()"
   ]
  },
  {
   "cell_type": "markdown",
   "id": "7a47f06d",
   "metadata": {},
   "source": [
    "### Model evaluation and tuning\n",
    "No tuning for v0.1.0"
   ]
  },
  {
   "cell_type": "code",
   "execution_count": 29,
   "id": "f2a95641",
   "metadata": {},
   "outputs": [
    {
     "name": "stdout",
     "output_type": "stream",
     "text": [
      "\u001b[1m3/3\u001b[0m \u001b[32m━━━━━━━━━━━━━━━━━━━━\u001b[0m\u001b[37m\u001b[0m \u001b[1m0s\u001b[0m 66ms/step\n",
      "              precision    recall  f1-score   support\n",
      "\n",
      "           0       0.83      0.11      0.19        46\n",
      "           1       0.49      0.97      0.65        40\n",
      "\n",
      "    accuracy                           0.51        86\n",
      "   macro avg       0.66      0.54      0.42        86\n",
      "weighted avg       0.67      0.51      0.41        86\n",
      "\n"
     ]
    }
   ],
   "source": [
    "predictions = model.predict(X_test, batch_size=32).flatten()\n",
    "y_pred = (predictions > 0.5).astype(int)\n",
    "y_test = y_test.astype(int)\n",
    "report = classification_report(y_test, y_pred, zero_division=np.nan)\n",
    "print(report)"
   ]
  }
 ],
 "metadata": {
  "kernelspec": {
   "display_name": "yogen",
   "language": "python",
   "name": "python3"
  },
  "language_info": {
   "codemirror_mode": {
    "name": "ipython",
    "version": 3
   },
   "file_extension": ".py",
   "mimetype": "text/x-python",
   "name": "python",
   "nbconvert_exporter": "python",
   "pygments_lexer": "ipython3",
   "version": "3.12.11"
  }
 },
 "nbformat": 4,
 "nbformat_minor": 5
}
