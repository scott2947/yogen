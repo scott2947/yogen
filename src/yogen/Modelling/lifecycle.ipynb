{
 "cells": [
  {
   "cell_type": "code",
   "execution_count": 1,
   "id": "86715741",
   "metadata": {},
   "outputs": [],
   "source": [
    "import pandas as pd\n",
    "import numpy as np"
   ]
  },
  {
   "cell_type": "code",
   "execution_count": 2,
   "id": "2c7ca96a",
   "metadata": {},
   "outputs": [],
   "source": [
    "WINDOW = 10"
   ]
  },
  {
   "cell_type": "markdown",
   "id": "7809cafe",
   "metadata": {},
   "source": [
    "### Problem definition\n",
    "Given the opening and closing prices from the last 10 trading days, and the opening price from the current day, predict whether the closing price will be higher or lower than the opening price"
   ]
  },
  {
   "cell_type": "markdown",
   "id": "a53c5819",
   "metadata": {},
   "source": [
    "### Data collection\n",
    "Tesla stock price dataset obtained from Kaggle"
   ]
  },
  {
   "cell_type": "code",
   "execution_count": 3,
   "id": "1b25682c",
   "metadata": {},
   "outputs": [
    {
     "data": {
      "text/html": [
       "<div>\n",
       "<style scoped>\n",
       "    .dataframe tbody tr th:only-of-type {\n",
       "        vertical-align: middle;\n",
       "    }\n",
       "\n",
       "    .dataframe tbody tr th {\n",
       "        vertical-align: top;\n",
       "    }\n",
       "\n",
       "    .dataframe thead th {\n",
       "        text-align: right;\n",
       "    }\n",
       "</style>\n",
       "<table border=\"1\" class=\"dataframe\">\n",
       "  <thead>\n",
       "    <tr style=\"text-align: right;\">\n",
       "      <th></th>\n",
       "      <th>High</th>\n",
       "      <th>Low</th>\n",
       "      <th>Open</th>\n",
       "      <th>Close</th>\n",
       "      <th>Volume</th>\n",
       "      <th>Adj Close</th>\n",
       "    </tr>\n",
       "    <tr>\n",
       "      <th>Date</th>\n",
       "      <th></th>\n",
       "      <th></th>\n",
       "      <th></th>\n",
       "      <th></th>\n",
       "      <th></th>\n",
       "      <th></th>\n",
       "    </tr>\n",
       "  </thead>\n",
       "  <tbody>\n",
       "    <tr>\n",
       "      <th>2019-09-30</th>\n",
       "      <td>48.796001</td>\n",
       "      <td>47.222000</td>\n",
       "      <td>48.599998</td>\n",
       "      <td>48.174000</td>\n",
       "      <td>29399000.0</td>\n",
       "      <td>48.174000</td>\n",
       "    </tr>\n",
       "    <tr>\n",
       "      <th>2019-10-01</th>\n",
       "      <td>49.189999</td>\n",
       "      <td>47.826000</td>\n",
       "      <td>48.299999</td>\n",
       "      <td>48.938000</td>\n",
       "      <td>30813000.0</td>\n",
       "      <td>48.938000</td>\n",
       "    </tr>\n",
       "    <tr>\n",
       "      <th>2019-10-02</th>\n",
       "      <td>48.930000</td>\n",
       "      <td>47.886002</td>\n",
       "      <td>48.658001</td>\n",
       "      <td>48.625999</td>\n",
       "      <td>28157000.0</td>\n",
       "      <td>48.625999</td>\n",
       "    </tr>\n",
       "    <tr>\n",
       "      <th>2019-10-03</th>\n",
       "      <td>46.896000</td>\n",
       "      <td>44.855999</td>\n",
       "      <td>46.372002</td>\n",
       "      <td>46.605999</td>\n",
       "      <td>75422500.0</td>\n",
       "      <td>46.605999</td>\n",
       "    </tr>\n",
       "    <tr>\n",
       "      <th>2019-10-04</th>\n",
       "      <td>46.956001</td>\n",
       "      <td>45.613998</td>\n",
       "      <td>46.321999</td>\n",
       "      <td>46.285999</td>\n",
       "      <td>39975000.0</td>\n",
       "      <td>46.285999</td>\n",
       "    </tr>\n",
       "    <tr>\n",
       "      <th>...</th>\n",
       "      <td>...</td>\n",
       "      <td>...</td>\n",
       "      <td>...</td>\n",
       "      <td>...</td>\n",
       "      <td>...</td>\n",
       "      <td>...</td>\n",
       "    </tr>\n",
       "    <tr>\n",
       "      <th>2022-04-05</th>\n",
       "      <td>1152.869995</td>\n",
       "      <td>1087.300049</td>\n",
       "      <td>1136.300049</td>\n",
       "      <td>1091.260010</td>\n",
       "      <td>26691700.0</td>\n",
       "      <td>1091.260010</td>\n",
       "    </tr>\n",
       "    <tr>\n",
       "      <th>2022-04-06</th>\n",
       "      <td>1079.000000</td>\n",
       "      <td>1027.699951</td>\n",
       "      <td>1073.469971</td>\n",
       "      <td>1045.760010</td>\n",
       "      <td>29782800.0</td>\n",
       "      <td>1045.760010</td>\n",
       "    </tr>\n",
       "    <tr>\n",
       "      <th>2022-04-07</th>\n",
       "      <td>1076.589966</td>\n",
       "      <td>1021.539978</td>\n",
       "      <td>1052.390015</td>\n",
       "      <td>1057.260010</td>\n",
       "      <td>26482400.0</td>\n",
       "      <td>1057.260010</td>\n",
       "    </tr>\n",
       "    <tr>\n",
       "      <th>2022-04-08</th>\n",
       "      <td>1048.439941</td>\n",
       "      <td>1022.440002</td>\n",
       "      <td>1043.209961</td>\n",
       "      <td>1025.489990</td>\n",
       "      <td>18293300.0</td>\n",
       "      <td>1025.489990</td>\n",
       "    </tr>\n",
       "    <tr>\n",
       "      <th>2022-04-11</th>\n",
       "      <td>1008.469971</td>\n",
       "      <td>974.640015</td>\n",
       "      <td>980.400024</td>\n",
       "      <td>975.929993</td>\n",
       "      <td>19660500.0</td>\n",
       "      <td>975.929993</td>\n",
       "    </tr>\n",
       "  </tbody>\n",
       "</table>\n",
       "<p>639 rows × 6 columns</p>\n",
       "</div>"
      ],
      "text/plain": [
       "                   High          Low         Open        Close      Volume  \\\n",
       "Date                                                                         \n",
       "2019-09-30    48.796001    47.222000    48.599998    48.174000  29399000.0   \n",
       "2019-10-01    49.189999    47.826000    48.299999    48.938000  30813000.0   \n",
       "2019-10-02    48.930000    47.886002    48.658001    48.625999  28157000.0   \n",
       "2019-10-03    46.896000    44.855999    46.372002    46.605999  75422500.0   \n",
       "2019-10-04    46.956001    45.613998    46.321999    46.285999  39975000.0   \n",
       "...                 ...          ...          ...          ...         ...   \n",
       "2022-04-05  1152.869995  1087.300049  1136.300049  1091.260010  26691700.0   \n",
       "2022-04-06  1079.000000  1027.699951  1073.469971  1045.760010  29782800.0   \n",
       "2022-04-07  1076.589966  1021.539978  1052.390015  1057.260010  26482400.0   \n",
       "2022-04-08  1048.439941  1022.440002  1043.209961  1025.489990  18293300.0   \n",
       "2022-04-11  1008.469971   974.640015   980.400024   975.929993  19660500.0   \n",
       "\n",
       "              Adj Close  \n",
       "Date                     \n",
       "2019-09-30    48.174000  \n",
       "2019-10-01    48.938000  \n",
       "2019-10-02    48.625999  \n",
       "2019-10-03    46.605999  \n",
       "2019-10-04    46.285999  \n",
       "...                 ...  \n",
       "2022-04-05  1091.260010  \n",
       "2022-04-06  1045.760010  \n",
       "2022-04-07  1057.260010  \n",
       "2022-04-08  1025.489990  \n",
       "2022-04-11   975.929993  \n",
       "\n",
       "[639 rows x 6 columns]"
      ]
     },
     "execution_count": 3,
     "metadata": {},
     "output_type": "execute_result"
    }
   ],
   "source": [
    "df_all_data = pd.read_csv(\"./Resources/TSLA.csv\")\n",
    "df_all_data[\"Date\"] = pd.to_datetime(df_all_data[\"Date\"])\n",
    "df_all_data.set_index(\"Date\", inplace=True)\n",
    "df_all_data"
   ]
  },
  {
   "cell_type": "markdown",
   "id": "1ff1816b",
   "metadata": {},
   "source": [
    "### Data cleaning and preprocessing\n",
    "- Constrain to opening and closing prices only\n",
    "- Use sliding window to obtain 21 features\n",
    "- Scale data to standard normal distribution"
   ]
  },
  {
   "cell_type": "code",
   "execution_count": 4,
   "id": "40499c28",
   "metadata": {},
   "outputs": [],
   "source": [
    "from sklearn.preprocessing import StandardScaler"
   ]
  },
  {
   "cell_type": "code",
   "execution_count": 5,
   "id": "5c02254a",
   "metadata": {},
   "outputs": [],
   "source": [
    "df_constrained = df_all_data.loc[:, [\"Open\", \"Close\"]]\n",
    "split_point = int(len(df_constrained) * 0.85)\n",
    "df_training = df_constrained.iloc[:split_point, :]\n",
    "df_test = df_constrained.iloc[split_point:, :]"
   ]
  },
  {
   "cell_type": "code",
   "execution_count": 6,
   "id": "24448b06",
   "metadata": {},
   "outputs": [],
   "source": [
    "scaler = StandardScaler()\n",
    "np_training = scaler.fit_transform(df_training)\n",
    "np_test = scaler.transform(df_test)"
   ]
  },
  {
   "cell_type": "code",
   "execution_count": 7,
   "id": "5c07b2d8",
   "metadata": {},
   "outputs": [],
   "source": [
    "def sliding_window(array):\n",
    "    data = []\n",
    "    labels = []\n",
    "    for i in range(WINDOW, len(array)):\n",
    "        opening = array[i-WINDOW:i, 0]\n",
    "        closing = array[i-WINDOW:i, 1]\n",
    "        datapoint = [list(t) for t in list(zip(opening, closing))]\n",
    "        current_open = array[i, 0]\n",
    "        datapoint.append([current_open, 0])\n",
    "        current_close = array[i, 1]\n",
    "        if current_open >= current_close:\n",
    "            labels.append(1.)\n",
    "        else:\n",
    "            labels.append(0.)\n",
    "        data.append(datapoint)\n",
    "    return np.array(data), np.array(labels)"
   ]
  },
  {
   "cell_type": "code",
   "execution_count": 8,
   "id": "7bc121a0",
   "metadata": {},
   "outputs": [],
   "source": [
    "X_train, y_train = sliding_window(np_training)\n",
    "X_test, y_test = sliding_window(np_test)"
   ]
  },
  {
   "cell_type": "markdown",
   "id": "df5a462b",
   "metadata": {},
   "source": [
    "### EDA\n",
    "Already completed as part of v0.1.0"
   ]
  },
  {
   "cell_type": "markdown",
   "id": "6b0b893c",
   "metadata": {},
   "source": [
    "### Feature engineering\n",
    "None required for v0.2.0"
   ]
  },
  {
   "cell_type": "markdown",
   "id": "be21aa44",
   "metadata": {},
   "source": [
    "### Model selection\n",
    "Using a PyTorch LSTM for v0.2.0"
   ]
  },
  {
   "cell_type": "markdown",
   "id": "8f5cf95b",
   "metadata": {},
   "source": [
    "### Model training"
   ]
  },
  {
   "cell_type": "code",
   "execution_count": 9,
   "id": "cc97aabf",
   "metadata": {},
   "outputs": [
    {
     "name": "stdout",
     "output_type": "stream",
     "text": [
      "Using device: mps\n"
     ]
    }
   ],
   "source": [
    "import torch\n",
    "import torch.nn as nn\n",
    "import torch.optim as optim\n",
    "from torch.utils.data import TensorDataset, DataLoader\n",
    "\n",
    "device = torch.device(\"mps\" if torch.backends.mps.is_available() else \"cpu\")\n",
    "print(\"Using device:\", device)\n",
    "\n",
    "from sklearn.metrics import classification_report\n",
    "import matplotlib.pyplot as plt\n",
    "\n",
    "from yogen.Modelling.lstm import LSTMModel"
   ]
  },
  {
   "cell_type": "code",
   "execution_count": 10,
   "id": "5f7d1a71",
   "metadata": {},
   "outputs": [],
   "source": [
    "split_point = int(len(X_train) * 0.85)\n",
    "X_epoch = X_train[:split_point, :, :]\n",
    "y_epoch = y_train[:split_point]\n",
    "X_validate = X_train[split_point:, :, :]\n",
    "y_validate = y_train[split_point:]"
   ]
  },
  {
   "cell_type": "code",
   "execution_count": 11,
   "id": "a6a88a5d",
   "metadata": {},
   "outputs": [],
   "source": [
    "class EarlyStopping:\n",
    "    def __init__(self, patience=100, delta=0):\n",
    "        self.patience = patience\n",
    "        self.delta = delta\n",
    "        self.best_score = None\n",
    "        self.best_model_state = None\n",
    "        self.early_stop = False\n",
    "        self.counter = 0\n",
    "    \n",
    "    def __call__(self, val_loss, model):\n",
    "        if self.best_score is None:\n",
    "            self.best_score = val_loss\n",
    "            self.best_model_state = model.state_dict()\n",
    "        elif val_loss >= self.best_score - self.delta:\n",
    "            self.counter += 1\n",
    "            if self.counter >= self.patience:\n",
    "                self.early_stop = True\n",
    "        else:\n",
    "            self.best_score = val_loss\n",
    "            self.best_model_state = model.state_dict()\n",
    "            self.counter = 0\n",
    "    \n",
    "    def load_best_model(self, model):\n",
    "        model.load_state_dict(self.best_model_state)"
   ]
  },
  {
   "cell_type": "code",
   "execution_count": 12,
   "id": "702727c3",
   "metadata": {},
   "outputs": [],
   "source": [
    "def add_gaussian_noise(inputs, mean=0.0, std=0.01):\n",
    "    noise = torch.rand_like(inputs) * std + mean\n",
    "    return noise + inputs"
   ]
  },
  {
   "cell_type": "code",
   "execution_count": 30,
   "id": "60b35a11",
   "metadata": {},
   "outputs": [],
   "source": [
    "DROPOUT = 0.3 # Model hyperparameters\n",
    "INPUT_SIZE = 2\n",
    "\n",
    "PATIENCE = 100 # Early stopping hyperparameters\n",
    "DELTA = 0\n",
    "\n",
    "MEAN = 0.0 # Gaussian noise hyperparameters\n",
    "STD = 0.001\n",
    "\n",
    "LR = 1e-5 # Model training hyperparameters\n",
    "WEIGHT_DECAY = 1e-3\n",
    "BATCH_SIZE = 32\n",
    "\n",
    "THRESHOLD = 0.5 # Model evaluation hyperparameters"
   ]
  },
  {
   "cell_type": "code",
   "execution_count": null,
   "id": "06de7e35",
   "metadata": {},
   "outputs": [],
   "source": [
    "model = LSTMModel(input_size=INPUT_SIZE, device=device, dropout=DROPOUT).to(device)\n",
    "optimizer = optim.AdamW(model.parameters(), lr=LR, weight_decay=WEIGHT_DECAY)\n",
    "criterion = nn.BCELoss()\n",
    "early_stopping = EarlyStopping(patience=PATIENCE, delta=DELTA)"
   ]
  },
  {
   "cell_type": "code",
   "execution_count": 25,
   "id": "ef508d6c",
   "metadata": {},
   "outputs": [],
   "source": [
    "X_train_t = torch.tensor(X_epoch, dtype=torch.float)\n",
    "y_train_t = torch.tensor(y_epoch, dtype=torch.float).unsqueeze(1)\n",
    "\n",
    "X_val_t = torch.tensor(X_validate, dtype=torch.float)\n",
    "y_val_t = torch.tensor(y_validate, dtype=torch.float).unsqueeze(1)\n",
    "\n",
    "train_loader = DataLoader(TensorDataset(X_train_t, y_train_t), batch_size=BATCH_SIZE, shuffle=False)\n",
    "val_loader = DataLoader(TensorDataset(X_val_t, y_val_t), batch_size=BATCH_SIZE, shuffle=False)"
   ]
  },
  {
   "cell_type": "code",
   "execution_count": null,
   "id": "cab210d0",
   "metadata": {},
   "outputs": [
    {
     "name": "stdout",
     "output_type": "stream",
     "text": [
      "Epoch 0: Train Loss = 0.7003, Val Loss = 0.6973\n",
      "Epoch 10: Train Loss = 0.7069, Val Loss = 0.6955\n",
      "Epoch 20: Train Loss = 0.6974, Val Loss = 0.6958\n",
      "Epoch 30: Train Loss = 0.7178, Val Loss = 0.6963\n",
      "Epoch 40: Train Loss = 0.6991, Val Loss = 0.6959\n",
      "Epoch 50: Train Loss = 0.7157, Val Loss = 0.6960\n",
      "Epoch 60: Train Loss = 0.7090, Val Loss = 0.6977\n",
      "Epoch 70: Train Loss = 0.7039, Val Loss = 0.6975\n",
      "Epoch 80: Train Loss = 0.7006, Val Loss = 0.6972\n",
      "Epoch 90: Train Loss = 0.7052, Val Loss = 0.6979\n",
      "Epoch 100: Train Loss = 0.7095, Val Loss = 0.6981\n",
      "EARLY STOPPING\n"
     ]
    }
   ],
   "source": [
    "train_losses, val_losses = [], []\n",
    "epochs = 1000\n",
    "\n",
    "for epoch in range(epochs):\n",
    "    model.train()\n",
    "    running_loss, total = 0.0, 0\n",
    "    for X_batch, y_batch in train_loader:\n",
    "        X_batch = add_gaussian_noise(X_batch, mean=MEAN, std=STD)\n",
    "        X_batch, y_batch = X_batch.to(device), y_batch.to(device)\n",
    "\n",
    "        optimizer.zero_grad()\n",
    "        states = model.init_state(X_batch.size(0))\n",
    "        outputs, states = model(X_batch, states)\n",
    "        loss = criterion(outputs, y_batch)\n",
    "        loss.backward()\n",
    "        optimizer.step()\n",
    "\n",
    "        running_loss += loss.item() * X_batch.size(0)\n",
    "        total += y_batch.size(0)\n",
    "    \n",
    "    epoch_loss = running_loss / total\n",
    "    train_losses.append(epoch_loss)\n",
    "\n",
    "    model.eval()\n",
    "    val_running_loss, val_total = 0.0, 0\n",
    "    with torch.no_grad():\n",
    "        for X_batch, y_batch in val_loader:\n",
    "            X_batch, y_batch = X_batch.to(device), y_batch.to(device)\n",
    "\n",
    "            states = model.init_state(X_batch.size(0))\n",
    "            outputs, states = model(X_batch, states)\n",
    "            loss = criterion(outputs, y_batch)\n",
    "\n",
    "            val_running_loss += loss.item() * X_batch.size(0)\n",
    "            val_total += y_batch.size(0)\n",
    "        \n",
    "    val_loss = val_running_loss / val_total\n",
    "    val_losses.append(val_loss)\n",
    "\n",
    "    if epoch % 10 == 0:\n",
    "        print(f\"Epoch {epoch}: Train Loss = {epoch_loss:.4f}, Val Loss = {val_loss:.4f}\")\n",
    "\n",
    "    early_stopping(val_loss, model)\n",
    "    if early_stopping.early_stop:\n",
    "        print(\"EARLY STOPPING\")\n",
    "        early_stopping.load_best_model(model)\n",
    "        break"
   ]
  },
  {
   "cell_type": "code",
   "execution_count": 31,
   "id": "c43cfb1f",
   "metadata": {},
   "outputs": [],
   "source": [
    "torch.save({\n",
    "    \"model_state\": model.state_dict(),\n",
    "    \"hyperparams\": {\n",
    "        \"input_size\": INPUT_SIZE,\n",
    "        \"dropout\": DROPOUT\n",
    "    }\n",
    "}, \"./Resources/model2.pth\")"
   ]
  },
  {
   "cell_type": "code",
   "execution_count": 27,
   "id": "9ceb2056",
   "metadata": {},
   "outputs": [
    {
     "data": {
      "image/png": "[encoded data removed]",
      "text/plain": [
       "<Figure size 640x480 with 1 Axes>"
      ]
     },
     "metadata": {},
     "output_type": "display_data"
    }
   ],
   "source": [
    "fig, ax = plt.subplots()\n",
    "df_losses = pd.DataFrame(zip(train_losses, val_losses), columns=[\"TrainLoss\", \"ValLoss\"])\n",
    "df_losses[\"MA TrainLoss\"] = df_losses[\"TrainLoss\"].rolling(window=10).mean()\n",
    "df_losses[\"MA ValLoss\"] = df_losses[\"ValLoss\"].rolling(window=10).mean()\n",
    "df_losses.plot.line(ax=ax)\n",
    "ax.set_xlabel(\"Epoch - 1\")\n",
    "ax.set_ylabel(\"BCELoss\")\n",
    "ax.legend()\n",
    "plt.show()"
   ]
  },
  {
   "cell_type": "markdown",
   "id": "7a47f06d",
   "metadata": {},
   "source": [
    "### Model evaluation and tuning\n",
    "Tuning conducted manually on the stated hyperparameters"
   ]
  },
  {
   "cell_type": "code",
   "execution_count": 28,
   "id": "ab25e502",
   "metadata": {},
   "outputs": [],
   "source": [
    "X_test_t = torch.tensor(X_test, dtype=torch.float)\n",
    "y_test_t = torch.tensor(y_test, dtype=torch.float)\n",
    "test_loader = DataLoader(TensorDataset(X_test_t, y_test_t), batch_size=BATCH_SIZE, shuffle=False)\n",
    "y_pred = []\n",
    "model.eval()\n",
    "with torch.no_grad():\n",
    "    for X_batch, y_batch in test_loader:\n",
    "        X_batch, y_batch = X_batch.to(device), y_batch.to(device)\n",
    "\n",
    "        states = model.init_state(X_batch.size(0))\n",
    "        outputs, states = model(X_batch, states)\n",
    "\n",
    "        conversion = (outputs > 0.5).float().flatten()\n",
    "        y_pred += conversion.tolist()"
   ]
  },
  {
   "cell_type": "code",
   "execution_count": 29,
   "id": "f2a95641",
   "metadata": {},
   "outputs": [
    {
     "name": "stdout",
     "output_type": "stream",
     "text": [
      "              precision    recall  f1-score   support\n",
      "\n",
      "         0.0       1.00      0.02      0.04        45\n",
      "         1.0       0.48      1.00      0.65        41\n",
      "\n",
      "    accuracy                           0.49        86\n",
      "   macro avg       0.74      0.51      0.35        86\n",
      "weighted avg       0.75      0.49      0.33        86\n",
      "\n"
     ]
    }
   ],
   "source": [
    "report = classification_report(y_test, y_pred, zero_division=np.nan)\n",
    "print(report)"
   ]
  }
 ],
 "metadata": {
  "kernelspec": {
   "display_name": "yogen",
   "language": "python",
   "name": "python3"
  },
  "language_info": {
   "codemirror_mode": {
    "name": "ipython",
    "version": 3
   },
   "file_extension": ".py",
   "mimetype": "text/x-python",
   "name": "python",
   "nbconvert_exporter": "python",
   "pygments_lexer": "ipython3",
   "version": "3.12.11"
  }
 },
 "nbformat": 4,
 "nbformat_minor": 5
}
